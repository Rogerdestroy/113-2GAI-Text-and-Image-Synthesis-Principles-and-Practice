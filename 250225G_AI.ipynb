{
  "cells": [
    {
      "cell_type": "markdown",
      "metadata": {
        "id": "view-in-github",
        "colab_type": "text"
      },
      "source": [
        "<a href=\"https://colab.research.google.com/github/Rogerdestroy/113-2GAI-Text-and-Image-Synthesis-Principles-and-Practice/blob/main/250225G_AI.ipynb\" target=\"_parent\"><img src=\"https://colab.research.google.com/assets/colab-badge.svg\" alt=\"Open In Colab\"/></a>"
      ]
    },
    {
      "cell_type": "markdown",
      "metadata": {
        "id": "faUBG_Lq3EQc"
      },
      "source": [
        "#設定有多少層神經網路"
      ]
    },
    {
      "cell_type": "code",
      "execution_count": 87,
      "metadata": {
        "id": "uppi7ySOvads"
      },
      "outputs": [],
      "source": [
        "N1 = 150\n",
        "N2 = 80\n",
        "N3 = 30\n",
        "N4 = 30\n",
        "N5 = 30\n",
        "N6 = 10"
      ]
    },
    {
      "cell_type": "markdown",
      "metadata": {
        "id": "MikP0wNn26LU"
      },
      "source": [
        "#1. 讀入套件"
      ]
    },
    {
      "cell_type": "code",
      "execution_count": 5,
      "metadata": {
        "id": "xMh6Be4M29ty",
        "colab": {
          "base_uri": "https://localhost:8080/"
        },
        "outputId": "a66d03d5-be81-4799-97a5-2ab346475615"
      },
      "outputs": [
        {
          "output_type": "stream",
          "name": "stdout",
          "text": [
            "Requirement already satisfied: gradio in /usr/local/lib/python3.11/dist-packages (5.20.1)\n",
            "Requirement already satisfied: aiofiles<24.0,>=22.0 in /usr/local/lib/python3.11/dist-packages (from gradio) (23.2.1)\n",
            "Requirement already satisfied: anyio<5.0,>=3.0 in /usr/local/lib/python3.11/dist-packages (from gradio) (3.7.1)\n",
            "Requirement already satisfied: fastapi<1.0,>=0.115.2 in /usr/local/lib/python3.11/dist-packages (from gradio) (0.115.11)\n",
            "Requirement already satisfied: ffmpy in /usr/local/lib/python3.11/dist-packages (from gradio) (0.5.0)\n",
            "Requirement already satisfied: gradio-client==1.7.2 in /usr/local/lib/python3.11/dist-packages (from gradio) (1.7.2)\n",
            "Requirement already satisfied: groovy~=0.1 in /usr/local/lib/python3.11/dist-packages (from gradio) (0.1.2)\n",
            "Requirement already satisfied: httpx>=0.24.1 in /usr/local/lib/python3.11/dist-packages (from gradio) (0.28.1)\n",
            "Requirement already satisfied: huggingface-hub>=0.28.1 in /usr/local/lib/python3.11/dist-packages (from gradio) (0.28.1)\n",
            "Requirement already satisfied: jinja2<4.0 in /usr/local/lib/python3.11/dist-packages (from gradio) (3.1.5)\n",
            "Requirement already satisfied: markupsafe~=2.0 in /usr/local/lib/python3.11/dist-packages (from gradio) (2.1.5)\n",
            "Requirement already satisfied: numpy<3.0,>=1.0 in /usr/local/lib/python3.11/dist-packages (from gradio) (1.26.4)\n",
            "Requirement already satisfied: orjson~=3.0 in /usr/local/lib/python3.11/dist-packages (from gradio) (3.10.15)\n",
            "Requirement already satisfied: packaging in /usr/local/lib/python3.11/dist-packages (from gradio) (24.2)\n",
            "Requirement already satisfied: pandas<3.0,>=1.0 in /usr/local/lib/python3.11/dist-packages (from gradio) (2.2.2)\n",
            "Requirement already satisfied: pillow<12.0,>=8.0 in /usr/local/lib/python3.11/dist-packages (from gradio) (11.1.0)\n",
            "Requirement already satisfied: pydantic>=2.0 in /usr/local/lib/python3.11/dist-packages (from gradio) (2.10.6)\n",
            "Requirement already satisfied: pydub in /usr/local/lib/python3.11/dist-packages (from gradio) (0.25.1)\n",
            "Requirement already satisfied: python-multipart>=0.0.18 in /usr/local/lib/python3.11/dist-packages (from gradio) (0.0.20)\n",
            "Requirement already satisfied: pyyaml<7.0,>=5.0 in /usr/local/lib/python3.11/dist-packages (from gradio) (6.0.2)\n",
            "Requirement already satisfied: ruff>=0.9.3 in /usr/local/lib/python3.11/dist-packages (from gradio) (0.9.10)\n",
            "Requirement already satisfied: safehttpx<0.2.0,>=0.1.6 in /usr/local/lib/python3.11/dist-packages (from gradio) (0.1.6)\n",
            "Requirement already satisfied: semantic-version~=2.0 in /usr/local/lib/python3.11/dist-packages (from gradio) (2.10.0)\n",
            "Requirement already satisfied: starlette<1.0,>=0.40.0 in /usr/local/lib/python3.11/dist-packages (from gradio) (0.46.1)\n",
            "Requirement already satisfied: tomlkit<0.14.0,>=0.12.0 in /usr/local/lib/python3.11/dist-packages (from gradio) (0.13.2)\n",
            "Requirement already satisfied: typer<1.0,>=0.12 in /usr/local/lib/python3.11/dist-packages (from gradio) (0.15.2)\n",
            "Requirement already satisfied: typing-extensions~=4.0 in /usr/local/lib/python3.11/dist-packages (from gradio) (4.12.2)\n",
            "Requirement already satisfied: uvicorn>=0.14.0 in /usr/local/lib/python3.11/dist-packages (from gradio) (0.34.0)\n",
            "Requirement already satisfied: fsspec in /usr/local/lib/python3.11/dist-packages (from gradio-client==1.7.2->gradio) (2024.10.0)\n",
            "Requirement already satisfied: websockets<16.0,>=10.0 in /usr/local/lib/python3.11/dist-packages (from gradio-client==1.7.2->gradio) (14.2)\n",
            "Requirement already satisfied: idna>=2.8 in /usr/local/lib/python3.11/dist-packages (from anyio<5.0,>=3.0->gradio) (3.10)\n",
            "Requirement already satisfied: sniffio>=1.1 in /usr/local/lib/python3.11/dist-packages (from anyio<5.0,>=3.0->gradio) (1.3.1)\n",
            "Requirement already satisfied: certifi in /usr/local/lib/python3.11/dist-packages (from httpx>=0.24.1->gradio) (2025.1.31)\n",
            "Requirement already satisfied: httpcore==1.* in /usr/local/lib/python3.11/dist-packages (from httpx>=0.24.1->gradio) (1.0.7)\n",
            "Requirement already satisfied: h11<0.15,>=0.13 in /usr/local/lib/python3.11/dist-packages (from httpcore==1.*->httpx>=0.24.1->gradio) (0.14.0)\n",
            "Requirement already satisfied: filelock in /usr/local/lib/python3.11/dist-packages (from huggingface-hub>=0.28.1->gradio) (3.17.0)\n",
            "Requirement already satisfied: requests in /usr/local/lib/python3.11/dist-packages (from huggingface-hub>=0.28.1->gradio) (2.32.3)\n",
            "Requirement already satisfied: tqdm>=4.42.1 in /usr/local/lib/python3.11/dist-packages (from huggingface-hub>=0.28.1->gradio) (4.67.1)\n",
            "Requirement already satisfied: python-dateutil>=2.8.2 in /usr/local/lib/python3.11/dist-packages (from pandas<3.0,>=1.0->gradio) (2.8.2)\n",
            "Requirement already satisfied: pytz>=2020.1 in /usr/local/lib/python3.11/dist-packages (from pandas<3.0,>=1.0->gradio) (2025.1)\n",
            "Requirement already satisfied: tzdata>=2022.7 in /usr/local/lib/python3.11/dist-packages (from pandas<3.0,>=1.0->gradio) (2025.1)\n",
            "Requirement already satisfied: annotated-types>=0.6.0 in /usr/local/lib/python3.11/dist-packages (from pydantic>=2.0->gradio) (0.7.0)\n",
            "Requirement already satisfied: pydantic-core==2.27.2 in /usr/local/lib/python3.11/dist-packages (from pydantic>=2.0->gradio) (2.27.2)\n",
            "Requirement already satisfied: click>=8.0.0 in /usr/local/lib/python3.11/dist-packages (from typer<1.0,>=0.12->gradio) (8.1.8)\n",
            "Requirement already satisfied: shellingham>=1.3.0 in /usr/local/lib/python3.11/dist-packages (from typer<1.0,>=0.12->gradio) (1.5.4)\n",
            "Requirement already satisfied: rich>=10.11.0 in /usr/local/lib/python3.11/dist-packages (from typer<1.0,>=0.12->gradio) (13.9.4)\n",
            "Requirement already satisfied: six>=1.5 in /usr/local/lib/python3.11/dist-packages (from python-dateutil>=2.8.2->pandas<3.0,>=1.0->gradio) (1.17.0)\n",
            "Requirement already satisfied: markdown-it-py>=2.2.0 in /usr/local/lib/python3.11/dist-packages (from rich>=10.11.0->typer<1.0,>=0.12->gradio) (3.0.0)\n",
            "Requirement already satisfied: pygments<3.0.0,>=2.13.0 in /usr/local/lib/python3.11/dist-packages (from rich>=10.11.0->typer<1.0,>=0.12->gradio) (2.18.0)\n",
            "Requirement already satisfied: charset-normalizer<4,>=2 in /usr/local/lib/python3.11/dist-packages (from requests->huggingface-hub>=0.28.1->gradio) (3.4.1)\n",
            "Requirement already satisfied: urllib3<3,>=1.21.1 in /usr/local/lib/python3.11/dist-packages (from requests->huggingface-hub>=0.28.1->gradio) (2.3.0)\n",
            "Requirement already satisfied: mdurl~=0.1 in /usr/local/lib/python3.11/dist-packages (from markdown-it-py>=2.2.0->rich>=10.11.0->typer<1.0,>=0.12->gradio) (0.1.2)\n"
          ]
        }
      ],
      "source": [
        "!pip install gradio"
      ]
    },
    {
      "cell_type": "markdown",
      "metadata": {
        "id": "lwnWZ8ui3O-W"
      },
      "source": [
        "#2.載入所需套件"
      ]
    },
    {
      "cell_type": "code",
      "execution_count": 6,
      "metadata": {
        "id": "8-Ka57z13OsH"
      },
      "outputs": [],
      "source": [
        "%matplotlib inline\n",
        "\n",
        "# 標準數據分析、畫圖套件\n",
        "import numpy as np\n",
        "import matplotlib.pyplot as plt\n",
        "from PIL import Image\n",
        "\n",
        "# 神經網路方面\n",
        "import tensorflow as tf\n",
        "from tensorflow.keras.datasets import mnist\n",
        "from tensorflow.keras.utils import to_categorical\n",
        "from tensorflow.keras.models import Sequential\n",
        "from tensorflow.keras.layers import Dense\n",
        "from tensorflow.keras.optimizers import SGD\n",
        "\n",
        "# 互動設計用\n",
        "from ipywidgets import interact_manual\n",
        "\n",
        "# 神速打造 web app 的 Gradio\n",
        "import gradio as gr"
      ]
    },
    {
      "cell_type": "markdown",
      "metadata": {
        "id": "YPbVnyoS3cHg"
      },
      "source": [
        "#3.讀入 MNIST 數據庫"
      ]
    },
    {
      "cell_type": "markdown",
      "metadata": {
        "id": "t7sUkvvb3m1B"
      },
      "source": [
        "###3.1由 Keras 讀入 MNIST"
      ]
    },
    {
      "cell_type": "code",
      "execution_count": 7,
      "metadata": {
        "id": "qIieFqtz3cc4",
        "colab": {
          "base_uri": "https://localhost:8080/"
        },
        "outputId": "8bb77b4a-2baa-4020-8467-43026e10ce2c"
      },
      "outputs": [
        {
          "output_type": "stream",
          "name": "stdout",
          "text": [
            "Downloading data from https://storage.googleapis.com/tensorflow/tf-keras-datasets/mnist.npz\n",
            "\u001b[1m11490434/11490434\u001b[0m \u001b[32m━━━━━━━━━━━━━━━━━━━━\u001b[0m\u001b[37m\u001b[0m \u001b[1m0s\u001b[0m 0us/step\n"
          ]
        }
      ],
      "source": [
        "(x_train, y_train), (x_test, y_test) = mnist.load_data()"
      ]
    },
    {
      "cell_type": "markdown",
      "metadata": {
        "id": "pIWwDX-F4543"
      },
      "source": [
        "###3.2 Show資料內容"
      ]
    },
    {
      "cell_type": "code",
      "execution_count": 8,
      "metadata": {
        "id": "YOEZ7W1f30xL",
        "colab": {
          "base_uri": "https://localhost:8080/"
        },
        "outputId": "a487b431-8f58-4640-805e-1b011e364f90"
      },
      "outputs": [
        {
          "output_type": "stream",
          "name": "stdout",
          "text": [
            "訓練資料總筆數為 60000 筆資料\n",
            "測試資料總筆數為 10000 筆資料\n"
          ]
        }
      ],
      "source": [
        "print(f'訓練資料總筆數為 {len(x_train)} 筆資料')\n",
        "print(f'測試資料總筆數為 {len(x_test)} 筆資料')"
      ]
    },
    {
      "cell_type": "code",
      "execution_count": 9,
      "metadata": {
        "id": "CWAfOLjo34kN",
        "colab": {
          "base_uri": "https://localhost:8080/"
        },
        "outputId": "cbffd2dc-5055-4fe6-d50f-ebb2faedbc5d"
      },
      "outputs": [
        {
          "output_type": "execute_result",
          "data": {
            "text/plain": [
              "(60000, 28, 28)"
            ]
          },
          "metadata": {},
          "execution_count": 9
        }
      ],
      "source": [
        "x_train.shape"
      ]
    },
    {
      "cell_type": "code",
      "execution_count": 10,
      "metadata": {
        "id": "h7EBtXlC4Gmm",
        "colab": {
          "base_uri": "https://localhost:8080/",
          "height": 68
        },
        "outputId": "eaf3e747-7e67-4271-f66a-c7b9787040ec"
      },
      "outputs": [
        {
          "output_type": "execute_result",
          "data": {
            "text/plain": [
              "array([[  0,   0,   0,   0,   0,   0,   0,   0,   0,   0,   0,   0,   0,\n",
              "          0,   0,   0,   0,   0,   0,   0,   0,   0,   0,   0,   0,   0,\n",
              "          0,   0],\n",
              "       [  0,   0,   0,   0,   0,   0,   0,   0,   0,   0,   0,   0,   0,\n",
              "          0,   0,   0,   0,   0,   0,   0,   0,   0,   0,   0,   0,   0,\n",
              "          0,   0],\n",
              "       [  0,   0,   0,   0,   0,   0,   0,   0,   0,   0,   0,   0,   0,\n",
              "          0,   0,   0,   0,   0,   0,   0,   0,   0,   0,   0,   0,   0,\n",
              "          0,   0],\n",
              "       [  0,   0,   0,   0,   0,   0,   0,   0,   0,   0,   0,   0,   0,\n",
              "          0,   0,   0,   0,  39, 114, 236, 175,  11,   0,   0,   0,   0,\n",
              "          0,   0],\n",
              "       [  0,   0,   0,   0,   0,   0,   0,   0,   0,   0,   0,   0,   0,\n",
              "          0,   0,  15,  85, 247, 252, 182, 253,  98,   0,   0,   0,   0,\n",
              "          0,   0],\n",
              "       [  0,   0,   0,   0,   0,   0,   0,   0,   0,   0,   0,   0,   0,\n",
              "          0,   9, 192, 244, 224, 100,   4, 127,  40,   0,   0,   0,   0,\n",
              "          0,   0],\n",
              "       [  0,   0,   0,   0,   0,   0,   0,   0,   0,   0,   0,   0,   0,\n",
              "         70, 204, 227, 231,  16,   0,   0,   0,   0,   0,   0,   0,   0,\n",
              "          0,   0],\n",
              "       [  0,   0,   0,   0,   0,   0,   0,   0,   0,   0,   0,   0,   0,\n",
              "        169, 252, 113,  28,   0,   0,   0,   0,   0,   0,   0,   0,   0,\n",
              "          0,   0],\n",
              "       [  0,   0,   0,   0,   0,   0,   0,   0,   0,   0,   0,  15, 192,\n",
              "        253, 236,  45,   0,   0,   0,   0,   0,   0,   0,   0,   0,   0,\n",
              "          0,   0],\n",
              "       [  0,   0,   0,   0,   0,   0,   0,   0,   0,   0,   0, 121, 252,\n",
              "        231,  54,   0,   0,   0,   0,   0,   0,   0,   0,   0,   0,   0,\n",
              "          0,   0],\n",
              "       [  0,   0,   0,   0,   0,   0,   0,   0,   0,   0,  93, 247, 233,\n",
              "         51,   0,   0,   0,   0,   0,   0,   0,   0,   0,   0,   0,   0,\n",
              "          0,   0],\n",
              "       [  0,   0,   0,   0,   0,   0,   0,   0,   0,   0, 174, 252,  56,\n",
              "          0,   0,   0,   0,   0,   0,   0,   0,   0,   0,   0,   0,   0,\n",
              "          0,   0],\n",
              "       [  0,   0,   0,   0,   0,   0,   0,   0,   0, 132, 253, 217,  12,\n",
              "          0,   0,   0,   0,   0,   0,   0,   0,   0,   0,   0,   0,   0,\n",
              "          0,   0],\n",
              "       [  0,   0,   0,   0,   0,   0,   0,   0, 126, 253, 230,  27,   0,\n",
              "          0,   0,   0,  15,  34, 148, 148,  87,  11,   0,   0,   0,   0,\n",
              "          0,   0],\n",
              "       [  0,   0,   0,   0,   0,   0,   0,   0,  90, 252, 211,   0,   0,\n",
              "          0,   0,  50, 185, 184, 224, 182, 253, 177,   9,   0,   0,   0,\n",
              "          0,   0],\n",
              "       [  0,   0,   0,   0,   0,   0,   0,   0, 160, 252, 106,   0,   0,\n",
              "         41, 171, 197, 152,  63,  14,   4, 253,  71,   0,   0,   0,   0,\n",
              "          0,   0],\n",
              "       [  0,   0,   0,   0,   0,   0,   0,   0, 169, 252,  27,   0,  41,\n",
              "        225, 226,  70,   0,   0,   0,  71, 236,  37,   0,   0,   0,   0,\n",
              "          0,   0],\n",
              "       [  0,   0,   0,   0,   0,   0,   0,  18, 239, 252, 167, 106, 223,\n",
              "        226,  42,   0,   0,   0,  27, 167, 174,  11,   0,   0,   0,   0,\n",
              "          0,   0],\n",
              "       [  0,   0,   0,   0,   0,   0,   0,   0, 170, 253, 255, 253, 109,\n",
              "          0,   0,   0,   0, 101, 172, 194,  45,   0,   0,   0,   0,   0,\n",
              "          0,   0],\n",
              "       [  0,   0,   0,   0,   0,   0,   0,   0, 169, 252, 253, 153,   5,\n",
              "          0,   0,  86, 164, 247, 189,   0,   0,   0,   0,   0,   0,   0,\n",
              "          0,   0],\n",
              "       [  0,   0,   0,   0,   0,   0,   0,   0,  72, 252, 253, 202, 127,\n",
              "        127, 215, 253, 201,  73,  16,   0,   0,   0,   0,   0,   0,   0,\n",
              "          0,   0],\n",
              "       [  0,   0,   0,   0,   0,   0,   0,   0,  48, 242, 253, 252, 252,\n",
              "        252, 199, 128,  21,   0,   0,   0,   0,   0,   0,   0,   0,   0,\n",
              "          0,   0],\n",
              "       [  0,   0,   0,   0,   0,   0,   0,   0,   0,  79, 253, 208, 199,\n",
              "        121,   7,   0,   0,   0,   0,   0,   0,   0,   0,   0,   0,   0,\n",
              "          0,   0],\n",
              "       [  0,   0,   0,   0,   0,   0,   0,   0,   0,   0,   0,   0,   0,\n",
              "          0,   0,   0,   0,   0,   0,   0,   0,   0,   0,   0,   0,   0,\n",
              "          0,   0],\n",
              "       [  0,   0,   0,   0,   0,   0,   0,   0,   0,   0,   0,   0,   0,\n",
              "          0,   0,   0,   0,   0,   0,   0,   0,   0,   0,   0,   0,   0,\n",
              "          0,   0],\n",
              "       [  0,   0,   0,   0,   0,   0,   0,   0,   0,   0,   0,   0,   0,\n",
              "          0,   0,   0,   0,   0,   0,   0,   0,   0,   0,   0,   0,   0,\n",
              "          0,   0],\n",
              "       [  0,   0,   0,   0,   0,   0,   0,   0,   0,   0,   0,   0,   0,\n",
              "          0,   0,   0,   0,   0,   0,   0,   0,   0,   0,   0,   0,   0,\n",
              "          0,   0],\n",
              "       [  0,   0,   0,   0,   0,   0,   0,   0,   0,   0,   0,   0,   0,\n",
              "          0,   0,   0,   0,   0,   0,   0,   0,   0,   0,   0,   0,   0,\n",
              "          0,   0]], dtype=uint8)"
            ],
            "text/html": [
              "<style>\n",
              "      .ndarray_repr .ndarray_raw_data {\n",
              "        display: none;\n",
              "      }\n",
              "      .ndarray_repr.show_array .ndarray_raw_data {\n",
              "        display: block;\n",
              "      }\n",
              "      .ndarray_repr.show_array .ndarray_image_preview {\n",
              "        display: none;\n",
              "      }\n",
              "      </style>\n",
              "      <div id=\"id-eff40c75-90ca-4164-ad50-01001b04c9c3\" class=\"ndarray_repr\"><pre>ndarray (28, 28) <button style=\"padding: 0 2px;\">show data</button></pre><img src=\"data:image/png;base64,iVBORw0KGgoAAAANSUhEUgAAABwAAAAcCAAAAABXZoBIAAAA8ElEQVR4nGNgoBNQL3qznhu7FH/o9z/b/iZhleM88OVBCku9BjY5tzOPnwvgsm/ln0IZHFL8B/6+0cWlr/LPczNccrHfXxrjkmNY98cCp1zL35s8uOTq/j6TZmBgYOBXmjIlHD2Eov5cZmBgYDDauePBtr8bOVElF/zJYmDQXH10hj0fy193NJ0r/0gzaD585MbAwOD+RhVVTuj9n+VZ9x9pMTAwSC9fh27nqr///+YyMDAwpK45hBFMK//8ncnKwBC25PteTK94/Pl7qr7++t+TngKYkgaf/v758+d4gyimFAMDg//fC8cr2bFKDRoAAIZBVU55NSIYAAAAAElFTkSuQmCC\" class=\"ndarray_image_preview\" /><pre class=\"ndarray_raw_data\">array([[  0,   0,   0,   0,   0,   0,   0,   0,   0,   0,   0,   0,   0,\n",
              "          0,   0,   0,   0,   0,   0,   0,   0,   0,   0,   0,   0,   0,\n",
              "          0,   0],\n",
              "       [  0,   0,   0,   0,   0,   0,   0,   0,   0,   0,   0,   0,   0,\n",
              "          0,   0,   0,   0,   0,   0,   0,   0,   0,   0,   0,   0,   0,\n",
              "          0,   0],\n",
              "       [  0,   0,   0,   0,   0,   0,   0,   0,   0,   0,   0,   0,   0,\n",
              "          0,   0,   0,   0,   0,   0,   0,   0,   0,   0,   0,   0,   0,\n",
              "          0,   0],\n",
              "       [  0,   0,   0,   0,   0,   0,   0,   0,   0,   0,   0,   0,   0,\n",
              "          0,   0,   0,   0,  39, 114, 236, 175,  11,   0,   0,   0,   0,\n",
              "          0,   0],\n",
              "       [  0,   0,   0,   0,   0,   0,   0,   0,   0,   0,   0,   0,   0,\n",
              "          0,   0,  15,  85, 247, 252, 182, 253,  98,   0,   0,   0,   0,\n",
              "          0,   0],\n",
              "       [  0,   0,   0,   0,   0,   0,   0,   0,   0,   0,   0,   0,   0,\n",
              "          0,   9, 192, 244, 224, 100,   4, 127,  40,   0,   0,   0,   0,\n",
              "          0,   0],\n",
              "       [  0,   0,   0,   0,   0,   0,   0,   0,   0,   0,   0,   0,   0,\n",
              "         70, 204, 227, 231,  16,   0,   0,   0,   0,   0,   0,   0,   0,\n",
              "          0,   0],\n",
              "       [  0,   0,   0,   0,   0,   0,   0,   0,   0,   0,   0,   0,   0,\n",
              "        169, 252, 113,  28,   0,   0,   0,   0,   0,   0,   0,   0,   0,\n",
              "          0,   0],\n",
              "       [  0,   0,   0,   0,   0,   0,   0,   0,   0,   0,   0,  15, 192,\n",
              "        253, 236,  45,   0,   0,   0,   0,   0,   0,   0,   0,   0,   0,\n",
              "          0,   0],\n",
              "       [  0,   0,   0,   0,   0,   0,   0,   0,   0,   0,   0, 121, 252,\n",
              "        231,  54,   0,   0,   0,   0,   0,   0,   0,   0,   0,   0,   0,\n",
              "          0,   0],\n",
              "       [  0,   0,   0,   0,   0,   0,   0,   0,   0,   0,  93, 247, 233,\n",
              "         51,   0,   0,   0,   0,   0,   0,   0,   0,   0,   0,   0,   0,\n",
              "          0,   0],\n",
              "       [  0,   0,   0,   0,   0,   0,   0,   0,   0,   0, 174, 252,  56,\n",
              "          0,   0,   0,   0,   0,   0,   0,   0,   0,   0,   0,   0,   0,\n",
              "          0,   0],\n",
              "       [  0,   0,   0,   0,   0,   0,   0,   0,   0, 132, 253, 217,  12,\n",
              "          0,   0,   0,   0,   0,   0,   0,   0,   0,   0,   0,   0,   0,\n",
              "          0,   0],\n",
              "       [  0,   0,   0,   0,   0,   0,   0,   0, 126, 253, 230,  27,   0,\n",
              "          0,   0,   0,  15,  34, 148, 148,  87,  11,   0,   0,   0,   0,\n",
              "          0,   0],\n",
              "       [  0,   0,   0,   0,   0,   0,   0,   0,  90, 252, 211,   0,   0,\n",
              "          0,   0,  50, 185, 184, 224, 182, 253, 177,   9,   0,   0,   0,\n",
              "          0,   0],\n",
              "       [  0,   0,   0,   0,   0,   0,   0,   0, 160, 252, 106,   0,   0,\n",
              "         41, 171, 197, 152,  63,  14,   4, 253,  71,   0,   0,   0,   0,\n",
              "          0,   0],\n",
              "       [  0,   0,   0,   0,   0,   0,   0,   0, 169, 252,  27,   0,  41,\n",
              "        225, 226,  70,   0,   0,   0,  71, 236,  37,   0,   0,   0,   0,\n",
              "          0,   0],\n",
              "       [  0,   0,   0,   0,   0,   0,   0,  18, 239, 252, 167, 106, 223,\n",
              "        226,  42,   0,   0,   0,  27, 167, 174,  11,   0,   0,   0,   0,\n",
              "          0,   0],\n",
              "       [  0,   0,   0,   0,   0,   0,   0,   0, 170, 253, 255, 253, 109,\n",
              "          0,   0,   0,   0, 101, 172, 194,  45,   0,   0,   0,   0,   0,\n",
              "          0,   0],\n",
              "       [  0,   0,   0,   0,   0,   0,   0,   0, 169, 252, 253, 153,   5,\n",
              "          0,   0,  86, 164, 247, 189,   0,   0,   0,   0,   0,   0,   0,\n",
              "          0,   0],\n",
              "       [  0,   0,   0,   0,   0,   0,   0,   0,  72, 252, 253, 202, 127,\n",
              "        127, 215, 253, 201,  73,  16,   0,   0,   0,   0,   0,   0,   0,\n",
              "          0,   0],\n",
              "       [  0,   0,   0,   0,   0,   0,   0,   0,  48, 242, 253, 252, 252,\n",
              "        252, 199, 128,  21,   0,   0,   0,   0,   0,   0,   0,   0,   0,\n",
              "          0,   0],\n",
              "       [  0,   0,   0,   0,   0,   0,   0,   0,   0,  79, 253, 208, 199,\n",
              "        121,   7,   0,   0,   0,   0,   0,   0,   0,   0,   0,   0,   0,\n",
              "          0,   0],\n",
              "       [  0,   0,   0,   0,   0,   0,   0,   0,   0,   0,   0,   0,   0,\n",
              "          0,   0,   0,   0,   0,   0,   0,   0,   0,   0,   0,   0,   0,\n",
              "          0,   0],\n",
              "       [  0,   0,   0,   0,   0,   0,   0,   0,   0,   0,   0,   0,   0,\n",
              "          0,   0,   0,   0,   0,   0,   0,   0,   0,   0,   0,   0,   0,\n",
              "          0,   0],\n",
              "       [  0,   0,   0,   0,   0,   0,   0,   0,   0,   0,   0,   0,   0,\n",
              "          0,   0,   0,   0,   0,   0,   0,   0,   0,   0,   0,   0,   0,\n",
              "          0,   0],\n",
              "       [  0,   0,   0,   0,   0,   0,   0,   0,   0,   0,   0,   0,   0,\n",
              "          0,   0,   0,   0,   0,   0,   0,   0,   0,   0,   0,   0,   0,\n",
              "          0,   0],\n",
              "       [  0,   0,   0,   0,   0,   0,   0,   0,   0,   0,   0,   0,   0,\n",
              "          0,   0,   0,   0,   0,   0,   0,   0,   0,   0,   0,   0,   0,\n",
              "          0,   0]], dtype=uint8)</pre></div><script>\n",
              "      (() => {\n",
              "      const titles = ['show data', 'hide data'];\n",
              "      let index = 0\n",
              "      document.querySelector('#id-eff40c75-90ca-4164-ad50-01001b04c9c3 button').onclick = (e) => {\n",
              "        document.querySelector('#id-eff40c75-90ca-4164-ad50-01001b04c9c3').classList.toggle('show_array');\n",
              "        index = (++index) % 2;\n",
              "        document.querySelector('#id-eff40c75-90ca-4164-ad50-01001b04c9c3 button').textContent = titles[index];\n",
              "        e.preventDefault();\n",
              "        e.stopPropagation();\n",
              "      }\n",
              "      })();\n",
              "    </script>"
            ]
          },
          "metadata": {},
          "execution_count": 10
        }
      ],
      "source": [
        "x_train[1202]"
      ]
    },
    {
      "cell_type": "code",
      "execution_count": 11,
      "metadata": {
        "id": "GcfruJwp4ZUH",
        "colab": {
          "base_uri": "https://localhost:8080/"
        },
        "outputId": "75f6348a-ffcf-45c1-fcbd-89ed97a2ca41"
      },
      "outputs": [
        {
          "output_type": "execute_result",
          "data": {
            "text/plain": [
              "6"
            ]
          },
          "metadata": {},
          "execution_count": 11
        }
      ],
      "source": [
        "y_train[1202]"
      ]
    },
    {
      "cell_type": "markdown",
      "metadata": {
        "id": "5fv1gbyF5FaR"
      },
      "source": [
        "###3.3輸入格式整理"
      ]
    },
    {
      "cell_type": "code",
      "execution_count": 12,
      "metadata": {
        "id": "uiSz53s05HgH"
      },
      "outputs": [],
      "source": [
        "x_train = x_train.reshape(60000, 784)/255\n",
        "x_test = x_test.reshape(10000, 784)/255"
      ]
    },
    {
      "cell_type": "code",
      "execution_count": 13,
      "metadata": {
        "id": "N051ZLXS54Ur"
      },
      "outputs": [],
      "source": [
        "y_train = to_categorical(y_train, 10)\n",
        "y_test = to_categorical(y_test, 10)"
      ]
    },
    {
      "cell_type": "markdown",
      "metadata": {
        "id": "SGxdnmei5Qm6"
      },
      "source": [
        "###3.4輸出整理後資料"
      ]
    },
    {
      "cell_type": "code",
      "execution_count": 14,
      "metadata": {
        "id": "c5DL2mfX5P4w",
        "colab": {
          "base_uri": "https://localhost:8080/"
        },
        "outputId": "0fa4e6ac-9785-4674-b221-7b201019098c"
      },
      "outputs": [
        {
          "output_type": "execute_result",
          "data": {
            "text/plain": [
              "(60000, 784)"
            ]
          },
          "metadata": {},
          "execution_count": 14
        }
      ],
      "source": [
        "x_train.shape"
      ]
    },
    {
      "cell_type": "code",
      "execution_count": 15,
      "metadata": {
        "id": "T-i9_Q6c56ya",
        "colab": {
          "base_uri": "https://localhost:8080/"
        },
        "outputId": "32776fce-4a0b-4581-ffd1-dd5c89089289"
      },
      "outputs": [
        {
          "output_type": "execute_result",
          "data": {
            "text/plain": [
              "array([0., 0., 0., 0., 0., 0., 1., 0., 0., 0.])"
            ]
          },
          "metadata": {},
          "execution_count": 15
        }
      ],
      "source": [
        "n = 1202\n",
        "y_train[n]"
      ]
    },
    {
      "cell_type": "markdown",
      "metadata": {
        "id": "2sDSdL5t6Ih9"
      },
      "source": [
        "#4.建構神經網路"
      ]
    },
    {
      "cell_type": "markdown",
      "metadata": {
        "id": "IYYg0zdP6Oz8"
      },
      "source": [
        "###4.1"
      ]
    },
    {
      "cell_type": "code",
      "execution_count": 91,
      "metadata": {
        "id": "-WWyhgUc6XPb"
      },
      "outputs": [],
      "source": [
        "model = Sequential()"
      ]
    },
    {
      "cell_type": "code",
      "execution_count": 93,
      "metadata": {
        "id": "3xoE9LoV6dvh"
      },
      "outputs": [],
      "source": [
        "model.add(Dense(N1, input_dim=784, activation='relu'))"
      ]
    },
    {
      "cell_type": "code",
      "execution_count": 94,
      "metadata": {
        "id": "LL0SsJxP6kHF"
      },
      "outputs": [],
      "source": [
        "model.add(Dense(N2, activation='relu'))"
      ]
    },
    {
      "cell_type": "code",
      "execution_count": 95,
      "metadata": {
        "id": "dTjkx3Zi6msd"
      },
      "outputs": [],
      "source": [
        "model.add(Dense(N3, activation='relu'))"
      ]
    },
    {
      "cell_type": "code",
      "execution_count": 96,
      "metadata": {
        "id": "5zVl8yCO6r72"
      },
      "outputs": [],
      "source": [
        "model.add(Dense(N4, activation='relu'))"
      ]
    },
    {
      "cell_type": "code",
      "source": [
        "model.add(Dense(N5, activation='relu'))"
      ],
      "metadata": {
        "id": "9CgUFe5FmmXP"
      },
      "execution_count": 97,
      "outputs": []
    },
    {
      "cell_type": "code",
      "source": [
        "model.add(Dense(N6, activation='relu'))"
      ],
      "metadata": {
        "id": "ax00wPzcnWqR"
      },
      "execution_count": 98,
      "outputs": []
    },
    {
      "cell_type": "markdown",
      "metadata": {
        "id": "-QPMhFIo61g2"
      },
      "source": [
        "###4.2"
      ]
    },
    {
      "cell_type": "code",
      "execution_count": 99,
      "metadata": {
        "id": "IFlHiCI960Fc"
      },
      "outputs": [],
      "source": [
        "model.add(Dense(10, activation='softmax'))"
      ]
    },
    {
      "cell_type": "code",
      "execution_count": 100,
      "metadata": {
        "id": "63oahZbh7gio"
      },
      "outputs": [],
      "source": [
        "#metrics=['accuracy']"
      ]
    },
    {
      "cell_type": "code",
      "execution_count": 101,
      "metadata": {
        "id": "egRTR-0G7iP7"
      },
      "outputs": [],
      "source": [
        "model.compile(loss='mse', optimizer=SGD(learning_rate=0.087), metrics=['accuracy'])"
      ]
    },
    {
      "cell_type": "markdown",
      "metadata": {
        "id": "CWYUBHiG7qhX"
      },
      "source": [
        "#5.檢視神經網路"
      ]
    },
    {
      "cell_type": "code",
      "execution_count": 102,
      "metadata": {
        "id": "Fm9mC_VO74xr",
        "colab": {
          "base_uri": "https://localhost:8080/",
          "height": 385
        },
        "outputId": "f5250b55-1c8c-414c-957a-19adeb7b3450"
      },
      "outputs": [
        {
          "output_type": "display_data",
          "data": {
            "text/plain": [
              "\u001b[1mModel: \"sequential_3\"\u001b[0m\n"
            ],
            "text/html": [
              "<pre style=\"white-space:pre;overflow-x:auto;line-height:normal;font-family:Menlo,'DejaVu Sans Mono',consolas,'Courier New',monospace\"><span style=\"font-weight: bold\">Model: \"sequential_3\"</span>\n",
              "</pre>\n"
            ]
          },
          "metadata": {}
        },
        {
          "output_type": "display_data",
          "data": {
            "text/plain": [
              "┏━━━━━━━━━━━━━━━━━━━━━━━━━━━━━━━━━━━━━━┳━━━━━━━━━━━━━━━━━━━━━━━━━━━━━┳━━━━━━━━━━━━━━━━━┓\n",
              "┃\u001b[1m \u001b[0m\u001b[1mLayer (type)                        \u001b[0m\u001b[1m \u001b[0m┃\u001b[1m \u001b[0m\u001b[1mOutput Shape               \u001b[0m\u001b[1m \u001b[0m┃\u001b[1m \u001b[0m\u001b[1m        Param #\u001b[0m\u001b[1m \u001b[0m┃\n",
              "┡━━━━━━━━━━━━━━━━━━━━━━━━━━━━━━━━━━━━━━╇━━━━━━━━━━━━━━━━━━━━━━━━━━━━━╇━━━━━━━━━━━━━━━━━┩\n",
              "│ dense_16 (\u001b[38;5;33mDense\u001b[0m)                     │ (\u001b[38;5;45mNone\u001b[0m, \u001b[38;5;34m150\u001b[0m)                 │         \u001b[38;5;34m117,750\u001b[0m │\n",
              "├──────────────────────────────────────┼─────────────────────────────┼─────────────────┤\n",
              "│ dense_17 (\u001b[38;5;33mDense\u001b[0m)                     │ (\u001b[38;5;45mNone\u001b[0m, \u001b[38;5;34m150\u001b[0m)                 │          \u001b[38;5;34m22,650\u001b[0m │\n",
              "├──────────────────────────────────────┼─────────────────────────────┼─────────────────┤\n",
              "│ dense_18 (\u001b[38;5;33mDense\u001b[0m)                     │ (\u001b[38;5;45mNone\u001b[0m, \u001b[38;5;34m80\u001b[0m)                  │          \u001b[38;5;34m12,080\u001b[0m │\n",
              "├──────────────────────────────────────┼─────────────────────────────┼─────────────────┤\n",
              "│ dense_19 (\u001b[38;5;33mDense\u001b[0m)                     │ (\u001b[38;5;45mNone\u001b[0m, \u001b[38;5;34m30\u001b[0m)                  │           \u001b[38;5;34m2,430\u001b[0m │\n",
              "├──────────────────────────────────────┼─────────────────────────────┼─────────────────┤\n",
              "│ dense_20 (\u001b[38;5;33mDense\u001b[0m)                     │ (\u001b[38;5;45mNone\u001b[0m, \u001b[38;5;34m30\u001b[0m)                  │             \u001b[38;5;34m930\u001b[0m │\n",
              "├──────────────────────────────────────┼─────────────────────────────┼─────────────────┤\n",
              "│ dense_21 (\u001b[38;5;33mDense\u001b[0m)                     │ (\u001b[38;5;45mNone\u001b[0m, \u001b[38;5;34m30\u001b[0m)                  │             \u001b[38;5;34m930\u001b[0m │\n",
              "├──────────────────────────────────────┼─────────────────────────────┼─────────────────┤\n",
              "│ dense_22 (\u001b[38;5;33mDense\u001b[0m)                     │ (\u001b[38;5;45mNone\u001b[0m, \u001b[38;5;34m10\u001b[0m)                  │             \u001b[38;5;34m310\u001b[0m │\n",
              "├──────────────────────────────────────┼─────────────────────────────┼─────────────────┤\n",
              "│ dense_23 (\u001b[38;5;33mDense\u001b[0m)                     │ (\u001b[38;5;45mNone\u001b[0m, \u001b[38;5;34m10\u001b[0m)                  │             \u001b[38;5;34m110\u001b[0m │\n",
              "└──────────────────────────────────────┴─────────────────────────────┴─────────────────┘\n"
            ],
            "text/html": [
              "<pre style=\"white-space:pre;overflow-x:auto;line-height:normal;font-family:Menlo,'DejaVu Sans Mono',consolas,'Courier New',monospace\">┏━━━━━━━━━━━━━━━━━━━━━━━━━━━━━━━━━━━━━━┳━━━━━━━━━━━━━━━━━━━━━━━━━━━━━┳━━━━━━━━━━━━━━━━━┓\n",
              "┃<span style=\"font-weight: bold\"> Layer (type)                         </span>┃<span style=\"font-weight: bold\"> Output Shape                </span>┃<span style=\"font-weight: bold\">         Param # </span>┃\n",
              "┡━━━━━━━━━━━━━━━━━━━━━━━━━━━━━━━━━━━━━━╇━━━━━━━━━━━━━━━━━━━━━━━━━━━━━╇━━━━━━━━━━━━━━━━━┩\n",
              "│ dense_16 (<span style=\"color: #0087ff; text-decoration-color: #0087ff\">Dense</span>)                     │ (<span style=\"color: #00d7ff; text-decoration-color: #00d7ff\">None</span>, <span style=\"color: #00af00; text-decoration-color: #00af00\">150</span>)                 │         <span style=\"color: #00af00; text-decoration-color: #00af00\">117,750</span> │\n",
              "├──────────────────────────────────────┼─────────────────────────────┼─────────────────┤\n",
              "│ dense_17 (<span style=\"color: #0087ff; text-decoration-color: #0087ff\">Dense</span>)                     │ (<span style=\"color: #00d7ff; text-decoration-color: #00d7ff\">None</span>, <span style=\"color: #00af00; text-decoration-color: #00af00\">150</span>)                 │          <span style=\"color: #00af00; text-decoration-color: #00af00\">22,650</span> │\n",
              "├──────────────────────────────────────┼─────────────────────────────┼─────────────────┤\n",
              "│ dense_18 (<span style=\"color: #0087ff; text-decoration-color: #0087ff\">Dense</span>)                     │ (<span style=\"color: #00d7ff; text-decoration-color: #00d7ff\">None</span>, <span style=\"color: #00af00; text-decoration-color: #00af00\">80</span>)                  │          <span style=\"color: #00af00; text-decoration-color: #00af00\">12,080</span> │\n",
              "├──────────────────────────────────────┼─────────────────────────────┼─────────────────┤\n",
              "│ dense_19 (<span style=\"color: #0087ff; text-decoration-color: #0087ff\">Dense</span>)                     │ (<span style=\"color: #00d7ff; text-decoration-color: #00d7ff\">None</span>, <span style=\"color: #00af00; text-decoration-color: #00af00\">30</span>)                  │           <span style=\"color: #00af00; text-decoration-color: #00af00\">2,430</span> │\n",
              "├──────────────────────────────────────┼─────────────────────────────┼─────────────────┤\n",
              "│ dense_20 (<span style=\"color: #0087ff; text-decoration-color: #0087ff\">Dense</span>)                     │ (<span style=\"color: #00d7ff; text-decoration-color: #00d7ff\">None</span>, <span style=\"color: #00af00; text-decoration-color: #00af00\">30</span>)                  │             <span style=\"color: #00af00; text-decoration-color: #00af00\">930</span> │\n",
              "├──────────────────────────────────────┼─────────────────────────────┼─────────────────┤\n",
              "│ dense_21 (<span style=\"color: #0087ff; text-decoration-color: #0087ff\">Dense</span>)                     │ (<span style=\"color: #00d7ff; text-decoration-color: #00d7ff\">None</span>, <span style=\"color: #00af00; text-decoration-color: #00af00\">30</span>)                  │             <span style=\"color: #00af00; text-decoration-color: #00af00\">930</span> │\n",
              "├──────────────────────────────────────┼─────────────────────────────┼─────────────────┤\n",
              "│ dense_22 (<span style=\"color: #0087ff; text-decoration-color: #0087ff\">Dense</span>)                     │ (<span style=\"color: #00d7ff; text-decoration-color: #00d7ff\">None</span>, <span style=\"color: #00af00; text-decoration-color: #00af00\">10</span>)                  │             <span style=\"color: #00af00; text-decoration-color: #00af00\">310</span> │\n",
              "├──────────────────────────────────────┼─────────────────────────────┼─────────────────┤\n",
              "│ dense_23 (<span style=\"color: #0087ff; text-decoration-color: #0087ff\">Dense</span>)                     │ (<span style=\"color: #00d7ff; text-decoration-color: #00d7ff\">None</span>, <span style=\"color: #00af00; text-decoration-color: #00af00\">10</span>)                  │             <span style=\"color: #00af00; text-decoration-color: #00af00\">110</span> │\n",
              "└──────────────────────────────────────┴─────────────────────────────┴─────────────────┘\n",
              "</pre>\n"
            ]
          },
          "metadata": {}
        },
        {
          "output_type": "display_data",
          "data": {
            "text/plain": [
              "\u001b[1m Total params: \u001b[0m\u001b[38;5;34m157,190\u001b[0m (614.02 KB)\n"
            ],
            "text/html": [
              "<pre style=\"white-space:pre;overflow-x:auto;line-height:normal;font-family:Menlo,'DejaVu Sans Mono',consolas,'Courier New',monospace\"><span style=\"font-weight: bold\"> Total params: </span><span style=\"color: #00af00; text-decoration-color: #00af00\">157,190</span> (614.02 KB)\n",
              "</pre>\n"
            ]
          },
          "metadata": {}
        },
        {
          "output_type": "display_data",
          "data": {
            "text/plain": [
              "\u001b[1m Trainable params: \u001b[0m\u001b[38;5;34m157,190\u001b[0m (614.02 KB)\n"
            ],
            "text/html": [
              "<pre style=\"white-space:pre;overflow-x:auto;line-height:normal;font-family:Menlo,'DejaVu Sans Mono',consolas,'Courier New',monospace\"><span style=\"font-weight: bold\"> Trainable params: </span><span style=\"color: #00af00; text-decoration-color: #00af00\">157,190</span> (614.02 KB)\n",
              "</pre>\n"
            ]
          },
          "metadata": {}
        },
        {
          "output_type": "display_data",
          "data": {
            "text/plain": [
              "\u001b[1m Non-trainable params: \u001b[0m\u001b[38;5;34m0\u001b[0m (0.00 B)\n"
            ],
            "text/html": [
              "<pre style=\"white-space:pre;overflow-x:auto;line-height:normal;font-family:Menlo,'DejaVu Sans Mono',consolas,'Courier New',monospace\"><span style=\"font-weight: bold\"> Non-trainable params: </span><span style=\"color: #00af00; text-decoration-color: #00af00\">0</span> (0.00 B)\n",
              "</pre>\n"
            ]
          },
          "metadata": {}
        }
      ],
      "source": [
        "model.summary()"
      ]
    },
    {
      "cell_type": "markdown",
      "metadata": {
        "id": "e2Ki0dsQ8ANe"
      },
      "source": [
        "#6.訓練神經網路"
      ]
    },
    {
      "cell_type": "code",
      "execution_count": 103,
      "metadata": {
        "id": "eQMC3mlf8D5J",
        "colab": {
          "base_uri": "https://localhost:8080/"
        },
        "outputId": "81b3817a-fe2a-4b38-b6b5-ce6ede95eaf8",
        "collapsed": true
      },
      "outputs": [
        {
          "output_type": "stream",
          "name": "stdout",
          "text": [
            "Epoch 1/30\n",
            "\u001b[1m300/300\u001b[0m \u001b[32m━━━━━━━━━━━━━━━━━━━━\u001b[0m\u001b[37m\u001b[0m \u001b[1m2s\u001b[0m 5ms/step - accuracy: 0.1098 - loss: 0.0900\n",
            "Epoch 2/30\n",
            "\u001b[1m300/300\u001b[0m \u001b[32m━━━━━━━━━━━━━━━━━━━━\u001b[0m\u001b[37m\u001b[0m \u001b[1m2s\u001b[0m 6ms/step - accuracy: 0.1357 - loss: 0.0899\n",
            "Epoch 3/30\n",
            "\u001b[1m300/300\u001b[0m \u001b[32m━━━━━━━━━━━━━━━━━━━━\u001b[0m\u001b[37m\u001b[0m \u001b[1m2s\u001b[0m 4ms/step - accuracy: 0.1685 - loss: 0.0899\n",
            "Epoch 4/30\n",
            "\u001b[1m300/300\u001b[0m \u001b[32m━━━━━━━━━━━━━━━━━━━━\u001b[0m\u001b[37m\u001b[0m \u001b[1m1s\u001b[0m 4ms/step - accuracy: 0.1938 - loss: 0.0898\n",
            "Epoch 5/30\n",
            "\u001b[1m300/300\u001b[0m \u001b[32m━━━━━━━━━━━━━━━━━━━━\u001b[0m\u001b[37m\u001b[0m \u001b[1m3s\u001b[0m 5ms/step - accuracy: 0.2106 - loss: 0.0898\n",
            "Epoch 6/30\n",
            "\u001b[1m300/300\u001b[0m \u001b[32m━━━━━━━━━━━━━━━━━━━━\u001b[0m\u001b[37m\u001b[0m \u001b[1m2s\u001b[0m 4ms/step - accuracy: 0.2433 - loss: 0.0897\n",
            "Epoch 7/30\n",
            "\u001b[1m300/300\u001b[0m \u001b[32m━━━━━━━━━━━━━━━━━━━━\u001b[0m\u001b[37m\u001b[0m \u001b[1m1s\u001b[0m 5ms/step - accuracy: 0.2988 - loss: 0.0895\n",
            "Epoch 8/30\n",
            "\u001b[1m300/300\u001b[0m \u001b[32m━━━━━━━━━━━━━━━━━━━━\u001b[0m\u001b[37m\u001b[0m \u001b[1m2s\u001b[0m 4ms/step - accuracy: 0.3253 - loss: 0.0892\n",
            "Epoch 9/30\n",
            "\u001b[1m300/300\u001b[0m \u001b[32m━━━━━━━━━━━━━━━━━━━━\u001b[0m\u001b[37m\u001b[0m \u001b[1m3s\u001b[0m 4ms/step - accuracy: 0.3200 - loss: 0.0888\n",
            "Epoch 10/30\n",
            "\u001b[1m300/300\u001b[0m \u001b[32m━━━━━━━━━━━━━━━━━━━━\u001b[0m\u001b[37m\u001b[0m \u001b[1m3s\u001b[0m 4ms/step - accuracy: 0.2956 - loss: 0.0881\n",
            "Epoch 11/30\n",
            "\u001b[1m300/300\u001b[0m \u001b[32m━━━━━━━━━━━━━━━━━━━━\u001b[0m\u001b[37m\u001b[0m \u001b[1m3s\u001b[0m 4ms/step - accuracy: 0.2738 - loss: 0.0868\n",
            "Epoch 12/30\n",
            "\u001b[1m300/300\u001b[0m \u001b[32m━━━━━━━━━━━━━━━━━━━━\u001b[0m\u001b[37m\u001b[0m \u001b[1m2s\u001b[0m 6ms/step - accuracy: 0.2719 - loss: 0.0840\n",
            "Epoch 13/30\n",
            "\u001b[1m300/300\u001b[0m \u001b[32m━━━━━━━━━━━━━━━━━━━━\u001b[0m\u001b[37m\u001b[0m \u001b[1m1s\u001b[0m 5ms/step - accuracy: 0.3207 - loss: 0.0789\n",
            "Epoch 14/30\n",
            "\u001b[1m300/300\u001b[0m \u001b[32m━━━━━━━━━━━━━━━━━━━━\u001b[0m\u001b[37m\u001b[0m \u001b[1m2s\u001b[0m 4ms/step - accuracy: 0.4330 - loss: 0.0732\n",
            "Epoch 15/30\n",
            "\u001b[1m300/300\u001b[0m \u001b[32m━━━━━━━━━━━━━━━━━━━━\u001b[0m\u001b[37m\u001b[0m \u001b[1m3s\u001b[0m 4ms/step - accuracy: 0.4987 - loss: 0.0647\n",
            "Epoch 16/30\n",
            "\u001b[1m300/300\u001b[0m \u001b[32m━━━━━━━━━━━━━━━━━━━━\u001b[0m\u001b[37m\u001b[0m \u001b[1m3s\u001b[0m 4ms/step - accuracy: 0.6140 - loss: 0.0545\n",
            "Epoch 17/30\n",
            "\u001b[1m300/300\u001b[0m \u001b[32m━━━━━━━━━━━━━━━━━━━━\u001b[0m\u001b[37m\u001b[0m \u001b[1m1s\u001b[0m 4ms/step - accuracy: 0.7203 - loss: 0.0428\n",
            "Epoch 18/30\n",
            "\u001b[1m300/300\u001b[0m \u001b[32m━━━━━━━━━━━━━━━━━━━━\u001b[0m\u001b[37m\u001b[0m \u001b[1m3s\u001b[0m 4ms/step - accuracy: 0.7736 - loss: 0.0339\n",
            "Epoch 19/30\n",
            "\u001b[1m300/300\u001b[0m \u001b[32m━━━━━━━━━━━━━━━━━━━━\u001b[0m\u001b[37m\u001b[0m \u001b[1m2s\u001b[0m 4ms/step - accuracy: 0.8130 - loss: 0.0282\n",
            "Epoch 20/30\n",
            "\u001b[1m300/300\u001b[0m \u001b[32m━━━━━━━━━━━━━━━━━━━━\u001b[0m\u001b[37m\u001b[0m \u001b[1m3s\u001b[0m 4ms/step - accuracy: 0.8381 - loss: 0.0246\n",
            "Epoch 21/30\n",
            "\u001b[1m300/300\u001b[0m \u001b[32m━━━━━━━━━━━━━━━━━━━━\u001b[0m\u001b[37m\u001b[0m \u001b[1m3s\u001b[0m 4ms/step - accuracy: 0.8609 - loss: 0.0215\n",
            "Epoch 22/30\n",
            "\u001b[1m300/300\u001b[0m \u001b[32m━━━━━━━━━━━━━━━━━━━━\u001b[0m\u001b[37m\u001b[0m \u001b[1m3s\u001b[0m 5ms/step - accuracy: 0.8727 - loss: 0.0194\n",
            "Epoch 23/30\n",
            "\u001b[1m300/300\u001b[0m \u001b[32m━━━━━━━━━━━━━━━━━━━━\u001b[0m\u001b[37m\u001b[0m \u001b[1m2s\u001b[0m 4ms/step - accuracy: 0.8840 - loss: 0.0179\n",
            "Epoch 24/30\n",
            "\u001b[1m300/300\u001b[0m \u001b[32m━━━━━━━━━━━━━━━━━━━━\u001b[0m\u001b[37m\u001b[0m \u001b[1m1s\u001b[0m 4ms/step - accuracy: 0.8927 - loss: 0.0166\n",
            "Epoch 25/30\n",
            "\u001b[1m300/300\u001b[0m \u001b[32m━━━━━━━━━━━━━━━━━━━━\u001b[0m\u001b[37m\u001b[0m \u001b[1m3s\u001b[0m 4ms/step - accuracy: 0.8985 - loss: 0.0156\n",
            "Epoch 26/30\n",
            "\u001b[1m300/300\u001b[0m \u001b[32m━━━━━━━━━━━━━━━━━━━━\u001b[0m\u001b[37m\u001b[0m \u001b[1m3s\u001b[0m 4ms/step - accuracy: 0.9066 - loss: 0.0145\n",
            "Epoch 27/30\n",
            "\u001b[1m300/300\u001b[0m \u001b[32m━━━━━━━━━━━━━━━━━━━━\u001b[0m\u001b[37m\u001b[0m \u001b[1m3s\u001b[0m 5ms/step - accuracy: 0.9102 - loss: 0.0138\n",
            "Epoch 28/30\n",
            "\u001b[1m300/300\u001b[0m \u001b[32m━━━━━━━━━━━━━━━━━━━━\u001b[0m\u001b[37m\u001b[0m \u001b[1m2s\u001b[0m 4ms/step - accuracy: 0.9142 - loss: 0.0132\n",
            "Epoch 29/30\n",
            "\u001b[1m300/300\u001b[0m \u001b[32m━━━━━━━━━━━━━━━━━━━━\u001b[0m\u001b[37m\u001b[0m \u001b[1m1s\u001b[0m 4ms/step - accuracy: 0.9197 - loss: 0.0125\n",
            "Epoch 30/30\n",
            "\u001b[1m300/300\u001b[0m \u001b[32m━━━━━━━━━━━━━━━━━━━━\u001b[0m\u001b[37m\u001b[0m \u001b[1m3s\u001b[0m 4ms/step - accuracy: 0.9207 - loss: 0.0123\n"
          ]
        },
        {
          "output_type": "execute_result",
          "data": {
            "text/plain": [
              "<keras.src.callbacks.history.History at 0x7a52b5ee4690>"
            ]
          },
          "metadata": {},
          "execution_count": 103
        }
      ],
      "source": [
        "model.fit(x_train, y_train, batch_size=200, epochs=30) #每X題檢討、訓練Y次"
      ]
    },
    {
      "cell_type": "markdown",
      "metadata": {
        "id": "Eoa1LJzQ8VBF"
      },
      "source": [
        "#7.測試神經網路正確率"
      ]
    },
    {
      "cell_type": "code",
      "execution_count": 104,
      "metadata": {
        "id": "OS8RgT3r8Uf0",
        "colab": {
          "base_uri": "https://localhost:8080/"
        },
        "outputId": "7458b8b0-285b-41d1-b06e-14f7f11b1932"
      },
      "outputs": [
        {
          "output_type": "stream",
          "name": "stdout",
          "text": [
            "\u001b[1m313/313\u001b[0m \u001b[32m━━━━━━━━━━━━━━━━━━━━\u001b[0m\u001b[37m\u001b[0m \u001b[1m1s\u001b[0m 2ms/step - accuracy: 0.9090 - loss: 0.0137\n"
          ]
        }
      ],
      "source": [
        "loss, acc = model.evaluate(x_test, y_test)"
      ]
    },
    {
      "cell_type": "code",
      "execution_count": 105,
      "metadata": {
        "id": "6np_BxAv8dvZ",
        "colab": {
          "base_uri": "https://localhost:8080/"
        },
        "outputId": "6407a4d5-1479-48b5-c63c-1d6403e0894b"
      },
      "outputs": [
        {
          "output_type": "stream",
          "name": "stdout",
          "text": [
            "測試資料正確率 92.21%\n"
          ]
        }
      ],
      "source": [
        "print(f\"測試資料正確率 {acc*100:.2f}%\")"
      ]
    },
    {
      "cell_type": "code",
      "execution_count": 106,
      "metadata": {
        "id": "4ODQwDl_-xXV",
        "colab": {
          "base_uri": "https://localhost:8080/"
        },
        "outputId": "d205dbcb-72f4-4e08-b25a-08269c8b9b22"
      },
      "outputs": [
        {
          "output_type": "stream",
          "name": "stdout",
          "text": [
            "\u001b[1m313/313\u001b[0m \u001b[32m━━━━━━━━━━━━━━━━━━━━\u001b[0m\u001b[37m\u001b[0m \u001b[1m1s\u001b[0m 2ms/step\n"
          ]
        }
      ],
      "source": [
        "predict = np.argmax(model.predict(x_test), axis=-1)"
      ]
    },
    {
      "cell_type": "code",
      "execution_count": 50,
      "metadata": {
        "id": "GNKfXPv5-zK3",
        "colab": {
          "base_uri": "https://localhost:8080/"
        },
        "outputId": "c3ac9463-d05e-43fa-e79a-93fead17b05c"
      },
      "outputs": [
        {
          "output_type": "execute_result",
          "data": {
            "text/plain": [
              "array([7, 2, 1, ..., 4, 5, 6])"
            ]
          },
          "metadata": {},
          "execution_count": 50
        }
      ],
      "source": [
        "predict"
      ]
    },
    {
      "cell_type": "code",
      "execution_count": 51,
      "metadata": {
        "id": "WclZxvpH-zyS"
      },
      "outputs": [],
      "source": [
        "def test(測試編號):\n",
        "    plt.imshow(x_test[測試編號].reshape(28,28), cmap='Greys')\n",
        "    print('神經網路判斷為:', predict[測試編號])"
      ]
    },
    {
      "cell_type": "markdown",
      "metadata": {
        "id": "0FSLx7Zv_DZ_"
      },
      "source": [
        "有錯誤..."
      ]
    },
    {
      "cell_type": "code",
      "execution_count": 42,
      "metadata": {
        "id": "PeU3_xrj-1lO",
        "colab": {
          "base_uri": "https://localhost:8080/",
          "height": 511,
          "referenced_widgets": [
            "ab992a1547a64c25be42b4bd0028f85e",
            "36423a0e99f848edb946472850e902cd",
            "853e0c85bbff45528d3b51317b094f48",
            "fe4643c9e18c400a876f737092a755cb",
            "a8977c85e5cf49a0b6cb55664e0a09c0",
            "1851a650fbe24f44ad4f7d4f687dd1e7",
            "91999251f8c245e6bd68b97816bda569",
            "853221ac3d134865b9991f0f76899be7",
            "e5a6a57c500844e7bc6ba90c6d54c8da",
            "4ef56729b599429589e9a702d4e42a4c"
          ]
        },
        "outputId": "b73e0962-3429-4a1b-e686-fde566ab0d28"
      },
      "outputs": [
        {
          "output_type": "display_data",
          "data": {
            "text/plain": [
              "interactive(children=(IntSlider(value=4999, description='測試編號', max=9999), Button(description='Run Interact', …"
            ],
            "application/vnd.jupyter.widget-view+json": {
              "version_major": 2,
              "version_minor": 0,
              "model_id": "ab992a1547a64c25be42b4bd0028f85e"
            }
          },
          "metadata": {}
        }
      ],
      "source": [
        "interact_manual(test, 測試編號=(0, 9999));"
      ]
    },
    {
      "cell_type": "markdown",
      "metadata": {
        "id": "URZkQkBm_MeW"
      },
      "source": [
        "#8.用 Gradio 來展示"
      ]
    },
    {
      "cell_type": "code",
      "execution_count": 43,
      "metadata": {
        "id": "EACiw8x5_OGQ"
      },
      "outputs": [],
      "source": [
        "def resize_image(inp):\n",
        "    # 圖在 inp[\"layers\"][0]\n",
        "    image = np.array(inp[\"layers\"][0], dtype=np.float32)\n",
        "    image = image.astype(np.uint8)\n",
        "\n",
        "    # 轉成 PIL 格式\n",
        "    image_pil = Image.fromarray(image)\n",
        "\n",
        "    # Alpha 通道設為白色, 再把圖從 RGBA 轉成 RGB\n",
        "    background = Image.new(\"RGB\", image_pil.size, (255, 255, 255))\n",
        "    background.paste(image_pil, mask=image_pil.split()[3]) # 把圖片粘貼到白色背景上，使用透明通道作為遮罩\n",
        "    image_pil = background\n",
        "\n",
        "    # 轉換為灰階圖像\n",
        "    image_gray = image_pil.convert(\"L\")\n",
        "\n",
        "    # 將灰階圖像縮放到 28x28, 轉回 numpy array\n",
        "    img_array = np.array(image_gray.resize((28, 28), resample=Image.LANCZOS))\n",
        "\n",
        "    # 配合 MNIST 數據集\n",
        "    img_array = 255 - img_array\n",
        "\n",
        "    # 拉平並縮放\n",
        "    img_array = img_array.reshape(1, 784) / 255.0\n",
        "\n",
        "    return img_array"
      ]
    },
    {
      "cell_type": "code",
      "execution_count": 44,
      "metadata": {
        "id": "ufhkt9QG_T_Z"
      },
      "outputs": [],
      "source": [
        "def recognize_digit(inp):\n",
        "    img_array = resize_image(inp)\n",
        "    prediction = model.predict(img_array).flatten()\n",
        "    labels = list('0123456789')\n",
        "    return {labels[i]: float(prediction[i]) for i in range(10)}"
      ]
    },
    {
      "cell_type": "code",
      "execution_count": 45,
      "metadata": {
        "colab": {
          "base_uri": "https://localhost:8080/",
          "height": 836
        },
        "id": "zl0d5ZwZ_Ukz",
        "outputId": "627b27a6-4239-43e6-cda6-508ac4bc3e9b"
      },
      "outputs": [
        {
          "output_type": "stream",
          "name": "stdout",
          "text": [
            "Colab notebook detected. This cell will run indefinitely so that you can see errors and logs. To turn off, set debug=False in launch().\n",
            "* Running on public URL: https://b277f6e2b2c6eca295.gradio.live\n",
            "\n",
            "This share link expires in 72 hours. For free permanent hosting and GPU upgrades, run `gradio deploy` from the terminal in the working directory to deploy to Hugging Face Spaces (https://huggingface.co/spaces)\n"
          ]
        },
        {
          "output_type": "display_data",
          "data": {
            "text/plain": [
              "<IPython.core.display.HTML object>"
            ],
            "text/html": [
              "<div><iframe src=\"https://b277f6e2b2c6eca295.gradio.live\" width=\"100%\" height=\"500\" allow=\"autoplay; camera; microphone; clipboard-read; clipboard-write;\" frameborder=\"0\" allowfullscreen></iframe></div>"
            ]
          },
          "metadata": {}
        },
        {
          "output_type": "stream",
          "name": "stdout",
          "text": [
            "\u001b[1m1/1\u001b[0m \u001b[32m━━━━━━━━━━━━━━━━━━━━\u001b[0m\u001b[37m\u001b[0m \u001b[1m0s\u001b[0m 31ms/step\n",
            "\u001b[1m1/1\u001b[0m \u001b[32m━━━━━━━━━━━━━━━━━━━━\u001b[0m\u001b[37m\u001b[0m \u001b[1m0s\u001b[0m 28ms/step\n",
            "\u001b[1m1/1\u001b[0m \u001b[32m━━━━━━━━━━━━━━━━━━━━\u001b[0m\u001b[37m\u001b[0m \u001b[1m0s\u001b[0m 26ms/step\n",
            "\u001b[1m1/1\u001b[0m \u001b[32m━━━━━━━━━━━━━━━━━━━━\u001b[0m\u001b[37m\u001b[0m \u001b[1m0s\u001b[0m 26ms/step\n",
            "\u001b[1m1/1\u001b[0m \u001b[32m━━━━━━━━━━━━━━━━━━━━\u001b[0m\u001b[37m\u001b[0m \u001b[1m0s\u001b[0m 25ms/step\n",
            "\u001b[1m1/1\u001b[0m \u001b[32m━━━━━━━━━━━━━━━━━━━━\u001b[0m\u001b[37m\u001b[0m \u001b[1m0s\u001b[0m 23ms/step\n",
            "\u001b[1m1/1\u001b[0m \u001b[32m━━━━━━━━━━━━━━━━━━━━\u001b[0m\u001b[37m\u001b[0m \u001b[1m0s\u001b[0m 24ms/step\n",
            "\u001b[1m1/1\u001b[0m \u001b[32m━━━━━━━━━━━━━━━━━━━━\u001b[0m\u001b[37m\u001b[0m \u001b[1m0s\u001b[0m 24ms/step\n",
            "\u001b[1m1/1\u001b[0m \u001b[32m━━━━━━━━━━━━━━━━━━━━\u001b[0m\u001b[37m\u001b[0m \u001b[1m0s\u001b[0m 32ms/step\n",
            "\u001b[1m1/1\u001b[0m \u001b[32m━━━━━━━━━━━━━━━━━━━━\u001b[0m\u001b[37m\u001b[0m \u001b[1m0s\u001b[0m 26ms/step\n",
            "\u001b[1m1/1\u001b[0m \u001b[32m━━━━━━━━━━━━━━━━━━━━\u001b[0m\u001b[37m\u001b[0m \u001b[1m0s\u001b[0m 29ms/step\n",
            "Keyboard interruption in main thread... closing server.\n",
            "Killing tunnel 127.0.0.1:7860 <> https://b277f6e2b2c6eca295.gradio.live\n"
          ]
        },
        {
          "output_type": "execute_result",
          "data": {
            "text/plain": []
          },
          "metadata": {},
          "execution_count": 45
        }
      ],
      "source": [
        "iface = gr.Interface(\n",
        "    fn=recognize_digit,\n",
        "    inputs=gr.Sketchpad(),\n",
        "    outputs=gr.Label(num_top_classes=3),\n",
        "    title=\"MNIST 手寫辨識\",\n",
        "    description=\"請在畫板上繪製數字\"\n",
        ")\n",
        "\n",
        "iface.launch(share=True, debug=True)"
      ]
    }
  ],
  "metadata": {
    "colab": {
      "provenance": [],
      "authorship_tag": "ABX9TyPdDoNaeDZ/t4WAZT69Jnpx",
      "include_colab_link": true
    },
    "kernelspec": {
      "display_name": "Python 3",
      "name": "python3"
    },
    "language_info": {
      "name": "python"
    },
    "widgets": {
      "application/vnd.jupyter.widget-state+json": {
        "ab992a1547a64c25be42b4bd0028f85e": {
          "model_module": "@jupyter-widgets/controls",
          "model_name": "VBoxModel",
          "model_module_version": "1.5.0",
          "state": {
            "_dom_classes": [
              "widget-interact"
            ],
            "_model_module": "@jupyter-widgets/controls",
            "_model_module_version": "1.5.0",
            "_model_name": "VBoxModel",
            "_view_count": null,
            "_view_module": "@jupyter-widgets/controls",
            "_view_module_version": "1.5.0",
            "_view_name": "VBoxView",
            "box_style": "",
            "children": [
              "IPY_MODEL_36423a0e99f848edb946472850e902cd",
              "IPY_MODEL_853e0c85bbff45528d3b51317b094f48",
              "IPY_MODEL_fe4643c9e18c400a876f737092a755cb"
            ],
            "layout": "IPY_MODEL_a8977c85e5cf49a0b6cb55664e0a09c0"
          }
        },
        "36423a0e99f848edb946472850e902cd": {
          "model_module": "@jupyter-widgets/controls",
          "model_name": "IntSliderModel",
          "model_module_version": "1.5.0",
          "state": {
            "_dom_classes": [],
            "_model_module": "@jupyter-widgets/controls",
            "_model_module_version": "1.5.0",
            "_model_name": "IntSliderModel",
            "_view_count": null,
            "_view_module": "@jupyter-widgets/controls",
            "_view_module_version": "1.5.0",
            "_view_name": "IntSliderView",
            "continuous_update": true,
            "description": "測試編號",
            "description_tooltip": null,
            "disabled": false,
            "layout": "IPY_MODEL_1851a650fbe24f44ad4f7d4f687dd1e7",
            "max": 9999,
            "min": 0,
            "orientation": "horizontal",
            "readout": true,
            "readout_format": "d",
            "step": 1,
            "style": "IPY_MODEL_91999251f8c245e6bd68b97816bda569",
            "value": 8870
          }
        },
        "853e0c85bbff45528d3b51317b094f48": {
          "model_module": "@jupyter-widgets/controls",
          "model_name": "ButtonModel",
          "model_module_version": "1.5.0",
          "state": {
            "_dom_classes": [],
            "_model_module": "@jupyter-widgets/controls",
            "_model_module_version": "1.5.0",
            "_model_name": "ButtonModel",
            "_view_count": null,
            "_view_module": "@jupyter-widgets/controls",
            "_view_module_version": "1.5.0",
            "_view_name": "ButtonView",
            "button_style": "",
            "description": "Run Interact",
            "disabled": false,
            "icon": "",
            "layout": "IPY_MODEL_853221ac3d134865b9991f0f76899be7",
            "style": "IPY_MODEL_e5a6a57c500844e7bc6ba90c6d54c8da",
            "tooltip": ""
          }
        },
        "fe4643c9e18c400a876f737092a755cb": {
          "model_module": "@jupyter-widgets/output",
          "model_name": "OutputModel",
          "model_module_version": "1.0.0",
          "state": {
            "_dom_classes": [],
            "_model_module": "@jupyter-widgets/output",
            "_model_module_version": "1.0.0",
            "_model_name": "OutputModel",
            "_view_count": null,
            "_view_module": "@jupyter-widgets/output",
            "_view_module_version": "1.0.0",
            "_view_name": "OutputView",
            "layout": "IPY_MODEL_4ef56729b599429589e9a702d4e42a4c",
            "msg_id": "",
            "outputs": [
              {
                "output_type": "stream",
                "name": "stdout",
                "text": [
                  "神經網路判斷為: 2\n"
                ]
              },
              {
                "output_type": "display_data",
                "data": {
                  "text/plain": "<Figure size 640x480 with 1 Axes>",
                  "image/png": "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\n"
                },
                "metadata": {}
              }
            ]
          }
        },
        "a8977c85e5cf49a0b6cb55664e0a09c0": {
          "model_module": "@jupyter-widgets/base",
          "model_name": "LayoutModel",
          "model_module_version": "1.2.0",
          "state": {
            "_model_module": "@jupyter-widgets/base",
            "_model_module_version": "1.2.0",
            "_model_name": "LayoutModel",
            "_view_count": null,
            "_view_module": "@jupyter-widgets/base",
            "_view_module_version": "1.2.0",
            "_view_name": "LayoutView",
            "align_content": null,
            "align_items": null,
            "align_self": null,
            "border": null,
            "bottom": null,
            "display": null,
            "flex": null,
            "flex_flow": null,
            "grid_area": null,
            "grid_auto_columns": null,
            "grid_auto_flow": null,
            "grid_auto_rows": null,
            "grid_column": null,
            "grid_gap": null,
            "grid_row": null,
            "grid_template_areas": null,
            "grid_template_columns": null,
            "grid_template_rows": null,
            "height": null,
            "justify_content": null,
            "justify_items": null,
            "left": null,
            "margin": null,
            "max_height": null,
            "max_width": null,
            "min_height": null,
            "min_width": null,
            "object_fit": null,
            "object_position": null,
            "order": null,
            "overflow": null,
            "overflow_x": null,
            "overflow_y": null,
            "padding": null,
            "right": null,
            "top": null,
            "visibility": null,
            "width": null
          }
        },
        "1851a650fbe24f44ad4f7d4f687dd1e7": {
          "model_module": "@jupyter-widgets/base",
          "model_name": "LayoutModel",
          "model_module_version": "1.2.0",
          "state": {
            "_model_module": "@jupyter-widgets/base",
            "_model_module_version": "1.2.0",
            "_model_name": "LayoutModel",
            "_view_count": null,
            "_view_module": "@jupyter-widgets/base",
            "_view_module_version": "1.2.0",
            "_view_name": "LayoutView",
            "align_content": null,
            "align_items": null,
            "align_self": null,
            "border": null,
            "bottom": null,
            "display": null,
            "flex": null,
            "flex_flow": null,
            "grid_area": null,
            "grid_auto_columns": null,
            "grid_auto_flow": null,
            "grid_auto_rows": null,
            "grid_column": null,
            "grid_gap": null,
            "grid_row": null,
            "grid_template_areas": null,
            "grid_template_columns": null,
            "grid_template_rows": null,
            "height": null,
            "justify_content": null,
            "justify_items": null,
            "left": null,
            "margin": null,
            "max_height": null,
            "max_width": null,
            "min_height": null,
            "min_width": null,
            "object_fit": null,
            "object_position": null,
            "order": null,
            "overflow": null,
            "overflow_x": null,
            "overflow_y": null,
            "padding": null,
            "right": null,
            "top": null,
            "visibility": null,
            "width": null
          }
        },
        "91999251f8c245e6bd68b97816bda569": {
          "model_module": "@jupyter-widgets/controls",
          "model_name": "SliderStyleModel",
          "model_module_version": "1.5.0",
          "state": {
            "_model_module": "@jupyter-widgets/controls",
            "_model_module_version": "1.5.0",
            "_model_name": "SliderStyleModel",
            "_view_count": null,
            "_view_module": "@jupyter-widgets/base",
            "_view_module_version": "1.2.0",
            "_view_name": "StyleView",
            "description_width": "",
            "handle_color": null
          }
        },
        "853221ac3d134865b9991f0f76899be7": {
          "model_module": "@jupyter-widgets/base",
          "model_name": "LayoutModel",
          "model_module_version": "1.2.0",
          "state": {
            "_model_module": "@jupyter-widgets/base",
            "_model_module_version": "1.2.0",
            "_model_name": "LayoutModel",
            "_view_count": null,
            "_view_module": "@jupyter-widgets/base",
            "_view_module_version": "1.2.0",
            "_view_name": "LayoutView",
            "align_content": null,
            "align_items": null,
            "align_self": null,
            "border": null,
            "bottom": null,
            "display": null,
            "flex": null,
            "flex_flow": null,
            "grid_area": null,
            "grid_auto_columns": null,
            "grid_auto_flow": null,
            "grid_auto_rows": null,
            "grid_column": null,
            "grid_gap": null,
            "grid_row": null,
            "grid_template_areas": null,
            "grid_template_columns": null,
            "grid_template_rows": null,
            "height": null,
            "justify_content": null,
            "justify_items": null,
            "left": null,
            "margin": null,
            "max_height": null,
            "max_width": null,
            "min_height": null,
            "min_width": null,
            "object_fit": null,
            "object_position": null,
            "order": null,
            "overflow": null,
            "overflow_x": null,
            "overflow_y": null,
            "padding": null,
            "right": null,
            "top": null,
            "visibility": null,
            "width": null
          }
        },
        "e5a6a57c500844e7bc6ba90c6d54c8da": {
          "model_module": "@jupyter-widgets/controls",
          "model_name": "ButtonStyleModel",
          "model_module_version": "1.5.0",
          "state": {
            "_model_module": "@jupyter-widgets/controls",
            "_model_module_version": "1.5.0",
            "_model_name": "ButtonStyleModel",
            "_view_count": null,
            "_view_module": "@jupyter-widgets/base",
            "_view_module_version": "1.2.0",
            "_view_name": "StyleView",
            "button_color": null,
            "font_weight": ""
          }
        },
        "4ef56729b599429589e9a702d4e42a4c": {
          "model_module": "@jupyter-widgets/base",
          "model_name": "LayoutModel",
          "model_module_version": "1.2.0",
          "state": {
            "_model_module": "@jupyter-widgets/base",
            "_model_module_version": "1.2.0",
            "_model_name": "LayoutModel",
            "_view_count": null,
            "_view_module": "@jupyter-widgets/base",
            "_view_module_version": "1.2.0",
            "_view_name": "LayoutView",
            "align_content": null,
            "align_items": null,
            "align_self": null,
            "border": null,
            "bottom": null,
            "display": null,
            "flex": null,
            "flex_flow": null,
            "grid_area": null,
            "grid_auto_columns": null,
            "grid_auto_flow": null,
            "grid_auto_rows": null,
            "grid_column": null,
            "grid_gap": null,
            "grid_row": null,
            "grid_template_areas": null,
            "grid_template_columns": null,
            "grid_template_rows": null,
            "height": null,
            "justify_content": null,
            "justify_items": null,
            "left": null,
            "margin": null,
            "max_height": null,
            "max_width": null,
            "min_height": null,
            "min_width": null,
            "object_fit": null,
            "object_position": null,
            "order": null,
            "overflow": null,
            "overflow_x": null,
            "overflow_y": null,
            "padding": null,
            "right": null,
            "top": null,
            "visibility": null,
            "width": null
          }
        }
      }
    }
  },
  "nbformat": 4,
  "nbformat_minor": 0
}