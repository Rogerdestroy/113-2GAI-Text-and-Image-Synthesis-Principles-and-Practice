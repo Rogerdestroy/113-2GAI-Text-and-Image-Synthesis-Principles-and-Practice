{
  "nbformat": 4,
  "nbformat_minor": 0,
  "metadata": {
    "colab": {
      "provenance": [],
      "authorship_tag": "ABX9TyOmlOxLVV/UF+VdMRrtwtJm",
      "include_colab_link": true
    },
    "kernelspec": {
      "name": "python3",
      "display_name": "Python 3"
    },
    "language_info": {
      "name": "python"
    }
  },
  "cells": [
    {
      "cell_type": "markdown",
      "metadata": {
        "id": "view-in-github",
        "colab_type": "text"
      },
      "source": [
        "<a href=\"https://colab.research.google.com/github/Rogerdestroy/113-2GAI-Text-and-Image-Synthesis-Principles-and-Practice/blob/main/250304G_AI.ipynb\" target=\"_parent\"><img src=\"https://colab.research.google.com/assets/colab-badge.svg\" alt=\"Open In Colab\"/></a>"
      ]
    },
    {
      "cell_type": "markdown",
      "source": [
        "\n",
        "\n",
        "*   [This X Does Not Exist](https://thisxdoesnotexist.com/)\n",
        "*   [Image-to-Image Demo](https://affinelayer.com/pixsrv/)\n",
        "\n"
      ],
      "metadata": {
        "id": "W-3IT64emToH"
      }
    },
    {
      "cell_type": "markdown",
      "source": [
        "# Cross entropy v.s KL divergence"
      ],
      "metadata": {
        "id": "fTvBk96tsoim"
      }
    }
  ]
}